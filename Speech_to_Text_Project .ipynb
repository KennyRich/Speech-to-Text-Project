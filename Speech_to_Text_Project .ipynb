{
  "nbformat": 4,
  "nbformat_minor": 0,
  "metadata": {
    "colab": {
      "name": "Speech_to_Text_Project.ipynb",
      "version": "0.3.2",
      "provenance": [],
      "collapsed_sections": []
    },
    "kernelspec": {
      "name": "python3",
      "display_name": "Python 3"
    }
  },
  "cells": [
    {
      "metadata": {
        "id": "yFrm573J031U",
        "colab_type": "text"
      },
      "cell_type": "markdown",
      "source": [
        "## Importing and Instaling Neccessary Libraries"
      ]
    },
    {
      "metadata": {
        "id": "_FeRHFGKYHG_",
        "colab_type": "code",
        "outputId": "15cb597e-0ff2-42af-a895-a49282a904fc",
        "colab": {
          "base_uri": "https://localhost:8080/",
          "height": 102
        }
      },
      "cell_type": "code",
      "source": [
        "!pip install SpeechRecognition\n",
        "!pip install ffmpeg-python\n",
        "!pip install ffprobe\n",
        "!pip install pydub"
      ],
      "execution_count": 1,
      "outputs": [
        {
          "output_type": "stream",
          "text": [
            "Requirement already satisfied: SpeechRecognition in /usr/local/lib/python3.6/dist-packages (3.8.1)\n",
            "Requirement already satisfied: ffmpeg-python in /usr/local/lib/python3.6/dist-packages (0.1.17)\n",
            "Requirement already satisfied: future in /usr/local/lib/python3.6/dist-packages (from ffmpeg-python) (0.16.0)\n",
            "Requirement already satisfied: ffprobe in /usr/local/lib/python3.6/dist-packages (0.5)\n",
            "Requirement already satisfied: pydub in /usr/local/lib/python3.6/dist-packages (0.23.1)\n"
          ],
          "name": "stdout"
        }
      ]
    },
    {
      "metadata": {
        "id": "eVKSPsFKkGgj",
        "colab_type": "code",
        "outputId": "0230867b-0d57-4df1-a0d7-03a17fd7dd8c",
        "colab": {
          "resources": {
            "http://localhost:8080/nbextensions/google.colab/files.js": {
              "data": "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",
              "ok": true,
              "headers": [
                [
                  "content-type",
                  "application/javascript"
                ]
              ],
              "status": 200,
              "status_text": ""
            }
          },
          "base_uri": "https://localhost:8080/",
          "height": 142
        }
      },
      "cell_type": "code",
      "source": [
        "## Import files from Local Computer to Google Drive\n",
        "from google.colab import files\n",
        "\n",
        "uploaded = files.upload()\n",
        "\n",
        "for fn in uploaded.keys():\n",
        "  print('User uploaded file \"{name}\" with length {length} bytes'.format(\n",
        "      name=fn, length=len(uploaded[fn])))"
      ],
      "execution_count": 0,
      "outputs": [
        {
          "output_type": "display_data",
          "data": {
            "text/html": [
              "\n",
              "     <input type=\"file\" id=\"files-4f1209f9-d7ed-4bb7-92c1-c791e62eb711\" name=\"files[]\" multiple disabled />\n",
              "     <output id=\"result-4f1209f9-d7ed-4bb7-92c1-c791e62eb711\">\n",
              "      Upload widget is only available when the cell has been executed in the\n",
              "      current browser session. Please rerun this cell to enable.\n",
              "      </output>\n",
              "      <script src=\"/nbextensions/google.colab/files.js\"></script> "
            ],
            "text/plain": [
              "<IPython.core.display.HTML object>"
            ]
          },
          "metadata": {
            "tags": []
          }
        },
        {
          "output_type": "stream",
          "text": [
            "Saving api-key.json to api-key.json\n",
            "Saving InboundSampleRecording.mp3 to InboundSampleRecording.mp3\n",
            "User uploaded file \"api-key.json\" with length 2330 bytes\n",
            "User uploaded file \"InboundSampleRecording.mp3\" with length 1132992 bytes\n"
          ],
          "name": "stdout"
        }
      ]
    },
    {
      "metadata": {
        "id": "YOb0iKtb0LOU",
        "colab_type": "text"
      },
      "cell_type": "markdown",
      "source": [
        "## Converting from MP3 to WAV audio format"
      ]
    },
    {
      "metadata": {
        "id": "W8IhNULZYHtd",
        "colab_type": "code",
        "outputId": "dbe24d79-3274-4bf7-b3fb-0ac897125c9a",
        "colab": {
          "base_uri": "https://localhost:8080/",
          "height": 34
        }
      },
      "cell_type": "code",
      "source": [
        "from pydub import AudioSegment\n",
        "import os\n",
        "# files                                                                         \n",
        "src = \"InboundSampleRecording.mp3\"\n",
        "dst = \"InboundSampleRecording.wav\"\n",
        "\n",
        "# convert wav to mp3                                                            \n",
        "sound = AudioSegment.from_mp3(file=src)\n",
        "sound.export(dst, format=\"wav\")"
      ],
      "execution_count": 2,
      "outputs": [
        {
          "output_type": "execute_result",
          "data": {
            "text/plain": [
              "<_io.BufferedRandom name='InboundSampleRecording.wav'>"
            ]
          },
          "metadata": {
            "tags": []
          },
          "execution_count": 2
        }
      ]
    },
    {
      "metadata": {
        "id": "6KFw3usv0T7v",
        "colab_type": "text"
      },
      "cell_type": "markdown",
      "source": [
        "## Breaking the Audio into Chunks and Transcribing"
      ]
    },
    {
      "metadata": {
        "id": "KuBPdXgil1Oe",
        "colab_type": "code",
        "colab": {}
      },
      "cell_type": "code",
      "source": [
        "# Import necessary libraries \n",
        "from pydub import AudioSegment \n",
        "import speech_recognition as sr \n",
        "  \n",
        "# Input audio file to be sliced \n",
        "audio = AudioSegment.from_wav(\"InboundSampleRecording.wav\") \n",
        "  \n",
        "''' \n",
        "Step #1 - Slicing the audio file into smaller chunks. \n",
        "'''\n",
        "# Length of the audiofile in milliseconds \n",
        "n = len(audio) \n",
        "  \n",
        "# Variable to count the number of sliced chunks \n",
        "counter = 1\n",
        "  \n",
        "# Text file to write the recognized audio \n",
        "fh = open(\"recognized.txt\", \"w+\") \n",
        "  \n",
        "interval = 10 * 1000\n",
        "overlap = 1.5 *1000 \n",
        "  \n",
        "# Initialize start and end seconds to 0 \n",
        "start = 0\n",
        "end = 0\n",
        "  \n",
        "# Flag to keep track of end of file. \n",
        "# When audio reaches its end, flag is set to 1 and we break \n",
        "flag = 0"
      ],
      "execution_count": 0,
      "outputs": []
    },
    {
      "metadata": {
        "id": "I9OAXyQKvr6e",
        "colab_type": "code",
        "outputId": "81e39cdb-646f-4fc0-ec45-f905b8450c9e",
        "colab": {
          "base_uri": "https://localhost:8080/",
          "height": 1309
        }
      },
      "cell_type": "code",
      "source": [
        "# Iterate from 0 to end of the file, \n",
        "# with increment = interval \n",
        "for i in range(0, 2 * n, interval): \n",
        "      \n",
        "    # During first iteration, \n",
        "    # start is 0, end is the interval \n",
        "    if i == 0: \n",
        "        start = 0\n",
        "        end = interval \n",
        "  \n",
        "    # All other iterations, \n",
        "    # start is the previous end - overlap \n",
        "    # end becomes end + interval \n",
        "    else: \n",
        "        start = end - overlap \n",
        "        end = start + interval  \n",
        "  \n",
        "    # When end becomes greater than the file length, \n",
        "    # end is set to the file length \n",
        "    # flag is set to 1 to indicate break. \n",
        "    if end >= n: \n",
        "        end = n \n",
        "        flag = 1\n",
        "    # Storing audio file from the defined start to end \n",
        "    chunk = audio[start:end] \n",
        "  \n",
        "    # Filename / Path to store the sliced audio \n",
        "    filename = 'chunk'+str(counter)+'.wav'\n",
        "  \n",
        "    # Store the sliced audio file to the defined path \n",
        "    chunk.export(filename, format =\"wav\") \n",
        "    # Print information about the current chunk \n",
        "    print(\"Processing chunk \"+str(counter)+\". Start = \"\n",
        "                        +str(start)+\" end = \"+str(end)) \n",
        "  \n",
        "    # Increment counter for the next chunk \n",
        "    counter = counter + 1\n",
        "  \n",
        "    AUDIO_FILE = filename \n",
        "    # Initialize the recognizer \n",
        "    r = sr.Recognizer() \n",
        "  \n",
        "    # Traverse the audio file and listen to the audio \n",
        "    with sr.AudioFile(AUDIO_FILE) as source: \n",
        "        audio_listened = r.listen(source) \n",
        "  \n",
        "    # Try to recognize the listened audio \n",
        "    # And catch expections. \n",
        "    try:     \n",
        "        rec = r.recognize_google(audio_listened) \n",
        "          \n",
        "        # If recognized, write into the file. \n",
        "        fh.write(rec+\" \") \n",
        "      \n",
        "    # If google could not understand the audio \n",
        "    except sr.UnknownValueError: \n",
        "        print(\"Could not understand audio\") \n",
        "  \n",
        "    # If the results cannot be requested from Google. \n",
        "    # Probably an internet connection error. \n",
        "    except sr.RequestError as e: \n",
        "        print(\"Could not request results.\") \n",
        "  \n",
        "    # Check for flag. \n",
        "    # If flag is 1, end of the whole audio reached. \n",
        "    # Close the file and break. \n",
        "    if flag == 1: \n",
        "        fh.close() \n",
        "        break"
      ],
      "execution_count": 10,
      "outputs": [
        {
          "output_type": "stream",
          "text": [
            "Processing chunk 1. Start = 0 end = 10000\n",
            "Processing chunk 2. Start = 8500.0 end = 18500.0\n",
            "Processing chunk 3. Start = 17000.0 end = 27000.0\n",
            "Processing chunk 4. Start = 25500.0 end = 35500.0\n",
            "Processing chunk 5. Start = 34000.0 end = 44000.0\n",
            "Processing chunk 6. Start = 42500.0 end = 52500.0\n",
            "Processing chunk 7. Start = 51000.0 end = 61000.0\n",
            "Processing chunk 8. Start = 59500.0 end = 69500.0\n",
            "Processing chunk 9. Start = 68000.0 end = 78000.0\n",
            "Processing chunk 10. Start = 76500.0 end = 86500.0\n",
            "Could not understand audio\n",
            "Processing chunk 11. Start = 85000.0 end = 95000.0\n",
            "Processing chunk 12. Start = 93500.0 end = 103500.0\n",
            "Processing chunk 13. Start = 102000.0 end = 112000.0\n",
            "Processing chunk 14. Start = 110500.0 end = 120500.0\n",
            "Processing chunk 15. Start = 119000.0 end = 129000.0\n",
            "Processing chunk 16. Start = 127500.0 end = 137500.0\n",
            "Processing chunk 17. Start = 136000.0 end = 146000.0\n",
            "Processing chunk 18. Start = 144500.0 end = 154500.0\n",
            "Processing chunk 19. Start = 153000.0 end = 163000.0\n",
            "Processing chunk 20. Start = 161500.0 end = 171500.0\n",
            "Processing chunk 21. Start = 170000.0 end = 180000.0\n",
            "Processing chunk 22. Start = 178500.0 end = 188500.0\n",
            "Processing chunk 23. Start = 187000.0 end = 197000.0\n",
            "Processing chunk 24. Start = 195500.0 end = 205500.0\n",
            "Processing chunk 25. Start = 204000.0 end = 214000.0\n",
            "Processing chunk 26. Start = 212500.0 end = 222500.0\n",
            "Could not understand audio\n",
            "Processing chunk 27. Start = 221000.0 end = 231000.0\n",
            "Processing chunk 28. Start = 229500.0 end = 239500.0\n",
            "Processing chunk 29. Start = 238000.0 end = 248000.0\n",
            "Processing chunk 30. Start = 246500.0 end = 256500.0\n",
            "Processing chunk 31. Start = 255000.0 end = 265000.0\n",
            "Processing chunk 32. Start = 263500.0 end = 273500.0\n",
            "Processing chunk 33. Start = 272000.0 end = 282000.0\n",
            "Processing chunk 34. Start = 280500.0 end = 290500.0\n",
            "Processing chunk 35. Start = 289000.0 end = 299000.0\n",
            "Processing chunk 36. Start = 297500.0 end = 307500.0\n",
            "Processing chunk 37. Start = 306000.0 end = 316000.0\n",
            "Processing chunk 38. Start = 314500.0 end = 324500.0\n",
            "Processing chunk 39. Start = 323000.0 end = 333000.0\n",
            "Processing chunk 40. Start = 331500.0 end = 341500.0\n",
            "Processing chunk 41. Start = 340000.0 end = 350000.0\n",
            "Could not understand audio\n",
            "Processing chunk 42. Start = 348500.0 end = 358500.0\n",
            "Processing chunk 43. Start = 357000.0 end = 367000.0\n",
            "Could not understand audio\n",
            "Processing chunk 44. Start = 365500.0 end = 375500.0\n",
            "Could not understand audio\n",
            "Processing chunk 45. Start = 374000.0 end = 384000.0\n",
            "Could not understand audio\n",
            "Processing chunk 46. Start = 382500.0 end = 392500.0\n",
            "Could not understand audio\n",
            "Processing chunk 47. Start = 391000.0 end = 401000.0\n",
            "Processing chunk 48. Start = 399500.0 end = 409500.0\n",
            "Processing chunk 49. Start = 408000.0 end = 418000.0\n",
            "Processing chunk 50. Start = 416500.0 end = 426500.0\n",
            "Processing chunk 51. Start = 425000.0 end = 435000.0\n",
            "Processing chunk 52. Start = 433500.0 end = 443500.0\n",
            "Processing chunk 53. Start = 442000.0 end = 452000.0\n",
            "Processing chunk 54. Start = 450500.0 end = 460500.0\n",
            "Processing chunk 55. Start = 459000.0 end = 469000.0\n",
            "Processing chunk 56. Start = 467500.0 end = 477500.0\n",
            "Processing chunk 57. Start = 476000.0 end = 486000.0\n",
            "Processing chunk 58. Start = 484500.0 end = 494500.0\n",
            "Processing chunk 59. Start = 493000.0 end = 503000.0\n",
            "Processing chunk 60. Start = 501500.0 end = 511500.0\n",
            "Processing chunk 61. Start = 510000.0 end = 520000.0\n",
            "Processing chunk 62. Start = 518500.0 end = 528500.0\n",
            "Processing chunk 63. Start = 527000.0 end = 537000.0\n",
            "Processing chunk 64. Start = 535500.0 end = 545500.0\n",
            "Processing chunk 65. Start = 544000.0 end = 554000.0\n",
            "Processing chunk 66. Start = 552500.0 end = 562500.0\n",
            "Could not understand audio\n",
            "Processing chunk 67. Start = 561000.0 end = 566496\n",
            "Could not understand audio\n"
          ],
          "name": "stdout"
        }
      ]
    },
    {
      "metadata": {
        "id": "c1QoIBZGxYBt",
        "colab_type": "code",
        "colab": {}
      },
      "cell_type": "code",
      "source": [
        ""
      ],
      "execution_count": 0,
      "outputs": []
    }
  ]
}